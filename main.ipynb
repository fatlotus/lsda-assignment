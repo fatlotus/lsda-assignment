{
 "metadata": {
  "name": ""
 },
 "nbformat": 3,
 "nbformat_minor": 0,
 "worksheets": [
  {
   "cells": [
    {
     "cell_type": "markdown",
     "metadata": {},
     "source": [
      "Use either this file or main.ipynb -- do not use both! This simplifies grading on our end.\n\nThe cell below is a code cell. If you type code into it and then press Control+Enter, it will be run on your computer."
     ]
    },
    {
     "cell_type": "code",
     "collapsed": false,
     "input": [
      "print \"Hello, world!\""
     ],
     "language": "python",
     "metadata": {},
     "outputs": []
    },
    {
     "cell_type": "markdown",
     "metadata": {},
     "source": [
      "The next cell uses parallel processing, which allows you to use multiple computers to perform your analysis."
     ]
    },
    {
     "cell_type": "code",
     "collapsed": false,
     "input": [
      "from IPython.parallel import Client\n",
      "\n",
      "rc = Client()\n",
      "view = rc.load_balanced_view()\n",
      "\n",
      "def function():\n",
      "    import time\n",
      "    time.sleep(1)\n",
      "\n",
      "view.map(function, range(10))"
     ],
     "language": "python",
     "metadata": {},
     "outputs": []
    },
    {
     "cell_type": "markdown",
     "metadata": {},
     "source": [
      "Notice how this takes only about five seconds, since two processes are now working on the problem."
     ]
    }
   ],
   "metadata": {}
  }
 ]
}